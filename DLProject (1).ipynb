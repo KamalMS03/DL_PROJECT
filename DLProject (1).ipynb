{
  "cells": [
    {
      "cell_type": "code",
      "execution_count": 1,
      "metadata": {
        "colab": {
          "base_uri": "https://localhost:8080/"
        },
        "id": "4thn5gb23CJL",
        "outputId": "c7250b44-d737-444f-bcf7-1fb6b61b9856"
      },
      "outputs": [
        {
          "output_type": "stream",
          "name": "stdout",
          "text": [
            "Mounted at /content/drive\n"
          ]
        }
      ],
      "source": [
        "from google.colab import drive\n",
        "drive.mount('/content/drive')"
      ]
    },
    {
      "cell_type": "code",
      "execution_count": 2,
      "metadata": {
        "id": "8-f80wwqGfjo"
      },
      "outputs": [],
      "source": [
        "import tensorflow as tf\n",
        "import tensorflow\n",
        "from tensorflow.keras.layers import ReLU\n",
        "import keras\n",
        "from tensorflow.keras.applications.xception import Xception\n",
        "from tensorflow.keras.preprocessing import image\n",
        "from tensorflow.keras.applications.xception import preprocess_input, decode_predictions\n",
        "from tensorflow.keras.models import Model\n",
        "from tensorflow.keras.layers import Dense, GlobalAveragePooling2D\n",
        "from tensorflow.keras.optimizers import Adam\n",
        "from tensorflow.keras.losses import SparseCategoricalCrossentropy\n",
        "import os\n",
        "import cv2\n",
        "import numpy as np\n",
        "import pandas as pd\n",
        "import matplotlib.pyplot as plt\n",
        "from sklearn.model_selection import train_test_split\n",
        "from sklearn.metrics import confusion_matrix\n",
        "from keras.callbacks import ReduceLROnPlateau\n",
        "from tensorflow.keras.utils import to_categorical\n",
        "from keras.preprocessing.image import ImageDataGenerator\n",
        "from tensorflow.keras.optimizers import SGD, Adam\n",
        "from keras.models import Sequential, load_model\n",
        "from keras.layers import Flatten, Dense, Dropout"
      ]
    },
    {
      "cell_type": "code",
      "execution_count": 3,
      "metadata": {
        "colab": {
          "base_uri": "https://localhost:8080/",
          "height": 318
        },
        "id": "gPYgDFG_Gqiv",
        "outputId": "379ecf4d-f59a-431e-e1a1-61d4b17bf8e9"
      },
      "outputs": [
        {
          "output_type": "stream",
          "name": "stdout",
          "text": [
            "number of categories:  8\n"
          ]
        },
        {
          "output_type": "execute_result",
          "data": {
            "text/plain": [
              "                categorie numbre of files\n",
              "0      dyed-lifted-polyps            1000\n",
              "1  dyed-resection-margins            1000\n",
              "2             esophagitis            1000\n",
              "3            normal-cecum            1000\n",
              "4          normal-pylorus            1000\n",
              "5           normal-z-line            1000\n",
              "6                  polyps            1000\n",
              "7      ulcerative-colitis            1000"
            ],
            "text/html": [
              "\n",
              "  <div id=\"df-6198d9b6-5105-46e7-ada4-28b07f4d6e63\" class=\"colab-df-container\">\n",
              "    <div>\n",
              "<style scoped>\n",
              "    .dataframe tbody tr th:only-of-type {\n",
              "        vertical-align: middle;\n",
              "    }\n",
              "\n",
              "    .dataframe tbody tr th {\n",
              "        vertical-align: top;\n",
              "    }\n",
              "\n",
              "    .dataframe thead th {\n",
              "        text-align: right;\n",
              "    }\n",
              "</style>\n",
              "<table border=\"1\" class=\"dataframe\">\n",
              "  <thead>\n",
              "    <tr style=\"text-align: right;\">\n",
              "      <th></th>\n",
              "      <th>categorie</th>\n",
              "      <th>numbre of files</th>\n",
              "    </tr>\n",
              "  </thead>\n",
              "  <tbody>\n",
              "    <tr>\n",
              "      <th>0</th>\n",
              "      <td>dyed-lifted-polyps</td>\n",
              "      <td>1000</td>\n",
              "    </tr>\n",
              "    <tr>\n",
              "      <th>1</th>\n",
              "      <td>dyed-resection-margins</td>\n",
              "      <td>1000</td>\n",
              "    </tr>\n",
              "    <tr>\n",
              "      <th>2</th>\n",
              "      <td>esophagitis</td>\n",
              "      <td>1000</td>\n",
              "    </tr>\n",
              "    <tr>\n",
              "      <th>3</th>\n",
              "      <td>normal-cecum</td>\n",
              "      <td>1000</td>\n",
              "    </tr>\n",
              "    <tr>\n",
              "      <th>4</th>\n",
              "      <td>normal-pylorus</td>\n",
              "      <td>1000</td>\n",
              "    </tr>\n",
              "    <tr>\n",
              "      <th>5</th>\n",
              "      <td>normal-z-line</td>\n",
              "      <td>1000</td>\n",
              "    </tr>\n",
              "    <tr>\n",
              "      <th>6</th>\n",
              "      <td>polyps</td>\n",
              "      <td>1000</td>\n",
              "    </tr>\n",
              "    <tr>\n",
              "      <th>7</th>\n",
              "      <td>ulcerative-colitis</td>\n",
              "      <td>1000</td>\n",
              "    </tr>\n",
              "  </tbody>\n",
              "</table>\n",
              "</div>\n",
              "    <div class=\"colab-df-buttons\">\n",
              "\n",
              "  <div class=\"colab-df-container\">\n",
              "    <button class=\"colab-df-convert\" onclick=\"convertToInteractive('df-6198d9b6-5105-46e7-ada4-28b07f4d6e63')\"\n",
              "            title=\"Convert this dataframe to an interactive table.\"\n",
              "            style=\"display:none;\">\n",
              "\n",
              "  <svg xmlns=\"http://www.w3.org/2000/svg\" height=\"24px\" viewBox=\"0 -960 960 960\">\n",
              "    <path d=\"M120-120v-720h720v720H120Zm60-500h600v-160H180v160Zm220 220h160v-160H400v160Zm0 220h160v-160H400v160ZM180-400h160v-160H180v160Zm440 0h160v-160H620v160ZM180-180h160v-160H180v160Zm440 0h160v-160H620v160Z\"/>\n",
              "  </svg>\n",
              "    </button>\n",
              "\n",
              "  <style>\n",
              "    .colab-df-container {\n",
              "      display:flex;\n",
              "      gap: 12px;\n",
              "    }\n",
              "\n",
              "    .colab-df-convert {\n",
              "      background-color: #E8F0FE;\n",
              "      border: none;\n",
              "      border-radius: 50%;\n",
              "      cursor: pointer;\n",
              "      display: none;\n",
              "      fill: #1967D2;\n",
              "      height: 32px;\n",
              "      padding: 0 0 0 0;\n",
              "      width: 32px;\n",
              "    }\n",
              "\n",
              "    .colab-df-convert:hover {\n",
              "      background-color: #E2EBFA;\n",
              "      box-shadow: 0px 1px 2px rgba(60, 64, 67, 0.3), 0px 1px 3px 1px rgba(60, 64, 67, 0.15);\n",
              "      fill: #174EA6;\n",
              "    }\n",
              "\n",
              "    .colab-df-buttons div {\n",
              "      margin-bottom: 4px;\n",
              "    }\n",
              "\n",
              "    [theme=dark] .colab-df-convert {\n",
              "      background-color: #3B4455;\n",
              "      fill: #D2E3FC;\n",
              "    }\n",
              "\n",
              "    [theme=dark] .colab-df-convert:hover {\n",
              "      background-color: #434B5C;\n",
              "      box-shadow: 0px 1px 3px 1px rgba(0, 0, 0, 0.15);\n",
              "      filter: drop-shadow(0px 1px 2px rgba(0, 0, 0, 0.3));\n",
              "      fill: #FFFFFF;\n",
              "    }\n",
              "  </style>\n",
              "\n",
              "    <script>\n",
              "      const buttonEl =\n",
              "        document.querySelector('#df-6198d9b6-5105-46e7-ada4-28b07f4d6e63 button.colab-df-convert');\n",
              "      buttonEl.style.display =\n",
              "        google.colab.kernel.accessAllowed ? 'block' : 'none';\n",
              "\n",
              "      async function convertToInteractive(key) {\n",
              "        const element = document.querySelector('#df-6198d9b6-5105-46e7-ada4-28b07f4d6e63');\n",
              "        const dataTable =\n",
              "          await google.colab.kernel.invokeFunction('convertToInteractive',\n",
              "                                                    [key], {});\n",
              "        if (!dataTable) return;\n",
              "\n",
              "        const docLinkHtml = 'Like what you see? Visit the ' +\n",
              "          '<a target=\"_blank\" href=https://colab.research.google.com/notebooks/data_table.ipynb>data table notebook</a>'\n",
              "          + ' to learn more about interactive tables.';\n",
              "        element.innerHTML = '';\n",
              "        dataTable['output_type'] = 'display_data';\n",
              "        await google.colab.output.renderOutput(dataTable, element);\n",
              "        const docLink = document.createElement('div');\n",
              "        docLink.innerHTML = docLinkHtml;\n",
              "        element.appendChild(docLink);\n",
              "      }\n",
              "    </script>\n",
              "  </div>\n",
              "\n",
              "\n",
              "<div id=\"df-58a71517-ce34-48a0-b99a-1e1a6ed40192\">\n",
              "  <button class=\"colab-df-quickchart\" onclick=\"quickchart('df-58a71517-ce34-48a0-b99a-1e1a6ed40192')\"\n",
              "            title=\"Suggest charts.\"\n",
              "            style=\"display:none;\">\n",
              "\n",
              "<svg xmlns=\"http://www.w3.org/2000/svg\" height=\"24px\"viewBox=\"0 0 24 24\"\n",
              "     width=\"24px\">\n",
              "    <g>\n",
              "        <path d=\"M19 3H5c-1.1 0-2 .9-2 2v14c0 1.1.9 2 2 2h14c1.1 0 2-.9 2-2V5c0-1.1-.9-2-2-2zM9 17H7v-7h2v7zm4 0h-2V7h2v10zm4 0h-2v-4h2v4z\"/>\n",
              "    </g>\n",
              "</svg>\n",
              "  </button>\n",
              "\n",
              "<style>\n",
              "  .colab-df-quickchart {\n",
              "      --bg-color: #E8F0FE;\n",
              "      --fill-color: #1967D2;\n",
              "      --hover-bg-color: #E2EBFA;\n",
              "      --hover-fill-color: #174EA6;\n",
              "      --disabled-fill-color: #AAA;\n",
              "      --disabled-bg-color: #DDD;\n",
              "  }\n",
              "\n",
              "  [theme=dark] .colab-df-quickchart {\n",
              "      --bg-color: #3B4455;\n",
              "      --fill-color: #D2E3FC;\n",
              "      --hover-bg-color: #434B5C;\n",
              "      --hover-fill-color: #FFFFFF;\n",
              "      --disabled-bg-color: #3B4455;\n",
              "      --disabled-fill-color: #666;\n",
              "  }\n",
              "\n",
              "  .colab-df-quickchart {\n",
              "    background-color: var(--bg-color);\n",
              "    border: none;\n",
              "    border-radius: 50%;\n",
              "    cursor: pointer;\n",
              "    display: none;\n",
              "    fill: var(--fill-color);\n",
              "    height: 32px;\n",
              "    padding: 0;\n",
              "    width: 32px;\n",
              "  }\n",
              "\n",
              "  .colab-df-quickchart:hover {\n",
              "    background-color: var(--hover-bg-color);\n",
              "    box-shadow: 0 1px 2px rgba(60, 64, 67, 0.3), 0 1px 3px 1px rgba(60, 64, 67, 0.15);\n",
              "    fill: var(--button-hover-fill-color);\n",
              "  }\n",
              "\n",
              "  .colab-df-quickchart-complete:disabled,\n",
              "  .colab-df-quickchart-complete:disabled:hover {\n",
              "    background-color: var(--disabled-bg-color);\n",
              "    fill: var(--disabled-fill-color);\n",
              "    box-shadow: none;\n",
              "  }\n",
              "\n",
              "  .colab-df-spinner {\n",
              "    border: 2px solid var(--fill-color);\n",
              "    border-color: transparent;\n",
              "    border-bottom-color: var(--fill-color);\n",
              "    animation:\n",
              "      spin 1s steps(1) infinite;\n",
              "  }\n",
              "\n",
              "  @keyframes spin {\n",
              "    0% {\n",
              "      border-color: transparent;\n",
              "      border-bottom-color: var(--fill-color);\n",
              "      border-left-color: var(--fill-color);\n",
              "    }\n",
              "    20% {\n",
              "      border-color: transparent;\n",
              "      border-left-color: var(--fill-color);\n",
              "      border-top-color: var(--fill-color);\n",
              "    }\n",
              "    30% {\n",
              "      border-color: transparent;\n",
              "      border-left-color: var(--fill-color);\n",
              "      border-top-color: var(--fill-color);\n",
              "      border-right-color: var(--fill-color);\n",
              "    }\n",
              "    40% {\n",
              "      border-color: transparent;\n",
              "      border-right-color: var(--fill-color);\n",
              "      border-top-color: var(--fill-color);\n",
              "    }\n",
              "    60% {\n",
              "      border-color: transparent;\n",
              "      border-right-color: var(--fill-color);\n",
              "    }\n",
              "    80% {\n",
              "      border-color: transparent;\n",
              "      border-right-color: var(--fill-color);\n",
              "      border-bottom-color: var(--fill-color);\n",
              "    }\n",
              "    90% {\n",
              "      border-color: transparent;\n",
              "      border-bottom-color: var(--fill-color);\n",
              "    }\n",
              "  }\n",
              "</style>\n",
              "\n",
              "  <script>\n",
              "    async function quickchart(key) {\n",
              "      const quickchartButtonEl =\n",
              "        document.querySelector('#' + key + ' button');\n",
              "      quickchartButtonEl.disabled = true;  // To prevent multiple clicks.\n",
              "      quickchartButtonEl.classList.add('colab-df-spinner');\n",
              "      try {\n",
              "        const charts = await google.colab.kernel.invokeFunction(\n",
              "            'suggestCharts', [key], {});\n",
              "      } catch (error) {\n",
              "        console.error('Error during call to suggestCharts:', error);\n",
              "      }\n",
              "      quickchartButtonEl.classList.remove('colab-df-spinner');\n",
              "      quickchartButtonEl.classList.add('colab-df-quickchart-complete');\n",
              "    }\n",
              "    (() => {\n",
              "      let quickchartButtonEl =\n",
              "        document.querySelector('#df-58a71517-ce34-48a0-b99a-1e1a6ed40192 button');\n",
              "      quickchartButtonEl.style.display =\n",
              "        google.colab.kernel.accessAllowed ? 'block' : 'none';\n",
              "    })();\n",
              "  </script>\n",
              "</div>\n",
              "    </div>\n",
              "  </div>\n"
            ]
          },
          "metadata": {},
          "execution_count": 3
        }
      ],
      "source": [
        "# Load the Kvasir dataset (assuming you have it in the 'data' directory)\n",
        "# You may need to preprocess the data according to your specific use case\n",
        "dataset_dir =\"/content/drive/MyDrive/kvasir-dataset-v2/kvasir-dataset-v2\"\n",
        "def get_dataCategories(dataset_dir):\n",
        "    import glob\n",
        "\n",
        "    categories = []\n",
        "    for folder_name in os.listdir(dataset_dir):\n",
        "        if os.path.isdir(os.path.join(dataset_dir, folder_name)):\n",
        "            nbr_files = len(\n",
        "                glob.glob(os.path.join(dataset_dir, folder_name) + \"/*.jpg\")\n",
        "            )\n",
        "            categories.append(np.array([folder_name, nbr_files]))\n",
        "\n",
        "    categories.sort(key=lambda a: a[0])\n",
        "    cat = np.array(categories)\n",
        "\n",
        "    return list(cat[:, 0]), list(cat[:, 1])\n",
        "\n",
        "\n",
        "categories, nbr_files = get_dataCategories(dataset_dir)\n",
        "\n",
        "# Create DataFrame\n",
        "df = pd.DataFrame({\"categorie\": categories, \"numbre of files\": nbr_files})\n",
        "print(\"number of categories: \", len(categories))\n",
        "df"
      ]
    },
    {
      "cell_type": "code",
      "execution_count": 4,
      "metadata": {
        "colab": {
          "base_uri": "https://localhost:8080/"
        },
        "id": "0Zs2DjBiI3xb",
        "outputId": "ca6623fa-5e7c-431b-d0ce-490f96431a41"
      },
      "outputs": [
        {
          "output_type": "stream",
          "name": "stdout",
          "text": [
            "X: (8000, 224, 224, 3)\n",
            "y: (8000,)\n"
          ]
        }
      ],
      "source": [
        "def create_dataset(datadir, categories, img_wid, img_high):\n",
        "\n",
        "    X, y = [], []\n",
        "    for category in categories:\n",
        "        path = os.path.join(datadir, category)\n",
        "        class_num = categories.index(category)\n",
        "        for img in os.listdir(path):\n",
        "            try:\n",
        "                img_array = cv2.imread(os.path.join(path, img))\n",
        "                ima_resize_rgb = cv2.resize(img_array, (img_wid, img_high))\n",
        "\n",
        "                X.append(ima_resize_rgb)\n",
        "                y.append(class_num)\n",
        "\n",
        "            except Exception as e:\n",
        "                pass\n",
        "\n",
        "    y = np.array(y)\n",
        "    X = np.array(X).reshape(y.shape[0], img_wid, img_wid, 3)\n",
        "    return X, y\n",
        "\n",
        "\n",
        "img_wid, img_high = 224, 224\n",
        "X, y = create_dataset(dataset_dir, categories, img_wid, img_high)\n",
        "\n",
        "print(f\"X: {X.shape}\")\n",
        "print(f\"y: {y.shape}\")"
      ]
    },
    {
      "cell_type": "code",
      "execution_count": 5,
      "metadata": {
        "colab": {
          "base_uri": "https://localhost:8080/"
        },
        "id": "Mit_HWopI5uD",
        "outputId": "03a7bf37-9dc8-44e8-b8eb-f0dd4e8b8b01"
      },
      "outputs": [
        {
          "output_type": "stream",
          "name": "stdout",
          "text": [
            "X_train: (6400, 224, 224, 3)\n",
            "t_train: (6400, 1)\n",
            "X_test: (1600, 224, 224, 3)\n",
            "y_test: (1600, 1)\n"
          ]
        }
      ],
      "source": [
        "# Converting y to scaler format\n",
        "Y = np.reshape(y, (len(y), 1))\n",
        "\n",
        "# split dataset to train and test set\n",
        "X_train, X_test, y_train, y_test = train_test_split(\n",
        "    X, Y, train_size=0.8, random_state=42\n",
        ")\n",
        "print(f\"X_train: {X_train.shape}\")\n",
        "print(f\"t_train: {y_train.shape}\")\n",
        "print(f\"X_test: {X_test.shape}\")\n",
        "print(f\"y_test: {y_test.shape}\")"
      ]
    },
    {
      "cell_type": "code",
      "execution_count": 6,
      "metadata": {
        "colab": {
          "base_uri": "https://localhost:8080/"
        },
        "id": "D7e-nIcUI5lm",
        "outputId": "d9ee37b0-346d-4278-ad7f-d462abb56fb3"
      },
      "outputs": [
        {
          "output_type": "stream",
          "name": "stdout",
          "text": [
            "x_train:(4480, 224, 224, 3),  y_train:(4480, 1)\n",
            "x_train:(1920, 224, 224, 3),  y_train:(1920, 1)\n",
            "x_train:(1600, 224, 224, 3),  y_train:(1600, 1)\n"
          ]
        }
      ],
      "source": [
        "# defining training and test sets\n",
        "x_train, x_val, y_train, y_val = train_test_split(X_train, y_train, test_size=0.3)\n",
        "x_test = X_test\n",
        "\n",
        "# Dimension of the dataset\n",
        "print(f\"x_train:{x_train.shape},  y_train:{y_train.shape}\")\n",
        "print(f\"x_train:{x_val.shape},  y_train:{y_val.shape}\")\n",
        "print(f\"x_train:{x_test.shape},  y_train:{y_test.shape}\")"
      ]
    },
    {
      "cell_type": "code",
      "execution_count": 7,
      "metadata": {
        "colab": {
          "base_uri": "https://localhost:8080/"
        },
        "id": "12uPZ00CI5gJ",
        "outputId": "705d6f65-20f6-4e42-8c35-e78094358b41"
      },
      "outputs": [
        {
          "output_type": "stream",
          "name": "stdout",
          "text": [
            "x_train:(4480, 224, 224, 3),  y_train:(4480, 8)\n",
            "x_train:(1920, 224, 224, 3),  y_train:(1920, 8)\n",
            "x_train:(1600, 224, 224, 3),  y_train:(1600, 8)\n"
          ]
        }
      ],
      "source": [
        "# One Hot Encoding\n",
        "y_train = to_categorical(y_train)\n",
        "y_val = to_categorical(y_val)\n",
        "y_test = to_categorical(y_test)\n",
        "\n",
        "# Verifying the dimension after one hot encoding\n",
        "print(f\"x_train:{x_train.shape},  y_train:{y_train.shape}\")\n",
        "print(f\"x_train:{x_val.shape},  y_train:{y_val.shape}\")\n",
        "print(f\"x_train:{x_test.shape},  y_train:{y_test.shape}\")"
      ]
    },
    {
      "cell_type": "code",
      "execution_count": 8,
      "metadata": {
        "id": "6uU5Dt8jI5W1"
      },
      "outputs": [],
      "source": [
        "from keras.layers import Conv2D, SeparableConv2D, MaxPooling2D, GlobalAveragePooling2D, Dense, Dropout, BatchNormalization\n",
        "def xception_model(input_shape=(224, 224, 3), num_classes=1000):\n",
        "  model = Sequential()\n",
        "\n",
        "  # Input flow\n",
        "  model.add(Conv2D(32, (3, 3), strides=(2, 2), padding='same', use_bias=False, input_shape=input_shape))\n",
        "  model.add(BatchNormalization())\n",
        "  model.add(ReLU())\n",
        "\n",
        "  # Middle flow\n",
        "  for _ in range(8):\n",
        "    model.add(SeparableConv2D(128, (3, 3), padding='same', use_bias=False))\n",
        "    model.add(BatchNormalization())\n",
        "    model.add(ReLU())\n",
        "    model.add(SeparableConv2D(128, (3, 3), padding='same', use_bias=False))\n",
        "    model.add(BatchNormalization())\n",
        "    model.add(ReLU())\n",
        "    model.add(MaxPooling2D((3, 3), strides=(2, 2), padding='same'))\n",
        "\n",
        "  # Exit flow\n",
        "  model.add(SeparableConv2D(728, (3, 3), padding='same', use_bias=False))\n",
        "  model.add(BatchNormalization())\n",
        "  model.add(ReLU())\n",
        "  model.add(SeparableConv2D(1024, (3, 3), padding='same', use_bias=False))\n",
        "  model.add(BatchNormalization())\n",
        "  model.add(ReLU())\n",
        "  model.add(GlobalAveragePooling2D())\n",
        "\n",
        "  # Fully connected layer\n",
        "  model.add(Dense(num_classes, activation='softmax'))\n",
        "\n",
        "  return model"
      ]
    },
    {
      "cell_type": "code",
      "execution_count": 9,
      "metadata": {
        "colab": {
          "base_uri": "https://localhost:8080/"
        },
        "id": "IZYIoImPI5Jh",
        "outputId": "84c7f3a1-bf3c-4a34-bb39-c4389c34dbc0"
      },
      "outputs": [
        {
          "output_type": "stream",
          "name": "stdout",
          "text": [
            "Downloading data from https://storage.googleapis.com/tensorflow/keras-applications/xception/xception_weights_tf_dim_ordering_tf_kernels_notop.h5\n",
            "83683744/83683744 [==============================] - 0s 0us/step\n",
            "Model: \"sequential\"\n",
            "_________________________________________________________________\n",
            " Layer (type)                Output Shape              Param #   \n",
            "=================================================================\n",
            " batch_normalization_4 (Bat  (None, 224, 224, 3)       12        \n",
            " chNormalization)                                                \n",
            "                                                                 \n",
            " xception (Functional)       (None, 7, 7, 2048)        20861480  \n",
            "                                                                 \n",
            " conv2d_4 (Conv2D)           (None, 4, 4, 64)          2097216   \n",
            "                                                                 \n",
            " flatten (Flatten)           (None, 1024)              0         \n",
            "                                                                 \n",
            " dropout (Dropout)           (None, 1024)              0         \n",
            "                                                                 \n",
            " dense (Dense)               (None, 8)                 8200      \n",
            "                                                                 \n",
            "=================================================================\n",
            "Total params: 22966908 (87.61 MB)\n",
            "Trainable params: 22912374 (87.40 MB)\n",
            "Non-trainable params: 54534 (213.02 KB)\n",
            "_________________________________________________________________\n"
          ]
        }
      ],
      "source": [
        "# Define Xception base model\n",
        "base_model = Xception(weights='imagenet', include_top=False, input_shape=(224, 224, 3))\n",
        "model = Sequential()\n",
        "model.add(tf.keras.layers.BatchNormalization(input_shape = (224,224,3)))\n",
        "model.add(base_model)\n",
        "model.add(Conv2D(filters=64,kernel_size =(4,4), input_shape=(4,4,2048) ))\n",
        "model.add(Flatten())\n",
        "model.add(tf.keras.layers.Dropout(0.4))\n",
        "model.add(Dense(y_train.shape[1], activation=(\"softmax\")))\n",
        "model.summary()"
      ]
    },
    {
      "cell_type": "code",
      "execution_count": 10,
      "metadata": {
        "id": "2wkCIyVUI4z8"
      },
      "outputs": [],
      "source": [
        "# Initialise no. of training samples for each batch\n",
        "batch_size = 64\n",
        "\n",
        "# No. of iterations\n",
        "epochs = 10\n",
        "\n",
        "# Learning rate\n",
        "learn_rate = 0.001\n",
        "\n",
        "# Using Gradient Descent\n",
        "sgd = SGD(learning_rate=learn_rate, momentum=0.9, nesterov=False)\n",
        "\n",
        "# Using adam optimizer\n",
        "adam = Adam( learning_rate=learn_rate)\n",
        "\n",
        "# Compiling the model\n",
        "model.compile(optimizer=sgd, loss=\"categorical_crossentropy\", metrics=[\"accuracy\"])\n"
      ]
    },
    {
      "cell_type": "code",
      "execution_count": 11,
      "metadata": {
        "id": "HtcoB8BgJPci"
      },
      "outputs": [],
      "source": [
        "lrr = ReduceLROnPlateau(monitor=\"val_acc\", factor=0.01, patience=3, min_lr=1e-5)"
      ]
    },
    {
      "cell_type": "code",
      "execution_count": 12,
      "metadata": {
        "id": "HphngcrQJPOf"
      },
      "outputs": [],
      "source": [
        "train_generator = ImageDataGenerator(\n",
        "    rotation_range=2, horizontal_flip=True, zoom_range=0.1\n",
        ")\n",
        "\n",
        "val_generator = ImageDataGenerator(\n",
        "    rotation_range=2, horizontal_flip=True, zoom_range=0.1\n",
        ")\n",
        "\n",
        "test_generator = ImageDataGenerator(\n",
        "    rotation_range=2, horizontal_flip=True, zoom_range=0.1\n",
        ")\n",
        "\n",
        "# Fitting the augmentation defined above to the data\n",
        "train_generator.fit(x_train)\n",
        "val_generator.fit(x_val)\n",
        "test_generator.fit(x_test)"
      ]
    },
    {
      "cell_type": "code",
      "execution_count": 13,
      "metadata": {
        "colab": {
          "base_uri": "https://localhost:8080/"
        },
        "id": "KfrFTDIoJPE1",
        "outputId": "e3bd38fd-a18c-4f18-d33b-2787363e72d7"
      },
      "outputs": [
        {
          "output_type": "stream",
          "name": "stdout",
          "text": [
            "Epoch 1/10\n",
            "4480/4480 [==============================] - ETA: 0s - loss: 1.3897 - accuracy: 0.4156"
          ]
        },
        {
          "output_type": "stream",
          "name": "stderr",
          "text": [
            "WARNING:tensorflow:Your input ran out of data; interrupting training. Make sure that your dataset or generator can generate at least `steps_per_epoch * epochs` batches (in this case, 250 batches). You may need to use the repeat() function when building your dataset.\n",
            "WARNING:tensorflow:Learning rate reduction is conditioned on metric `val_acc` which is not available. Available metrics are: loss,accuracy,val_loss,val_accuracy,lr\n"
          ]
        },
        {
          "output_type": "stream",
          "name": "stdout",
          "text": [
            "\b\b\b\b\b\b\b\b\b\b\b\b\b\b\b\b\b\b\b\b\b\b\b\b\b\b\b\b\b\b\b\b\b\b\b\b\b\b\b\b\b\b\b\b\b\b\b\b\b\b\b\b\b\b\b\b\b\b\b\b\b\b\b\b\b\b\b\b\b\b\b\b\b\b\b\b\b\b\b\b\b\b\b\b\b\b\r4480/4480 [==============================] - 202s 39ms/step - loss: 1.3897 - accuracy: 0.4156 - val_loss: 1.8455 - val_accuracy: 0.3438 - lr: 0.0010\n",
            "Epoch 2/10\n",
            "4479/4480 [============================>.] - ETA: 0s - loss: 0.5160 - accuracy: 0.8075"
          ]
        },
        {
          "output_type": "stream",
          "name": "stderr",
          "text": [
            "WARNING:tensorflow:Learning rate reduction is conditioned on metric `val_acc` which is not available. Available metrics are: loss,accuracy,lr\n"
          ]
        },
        {
          "output_type": "stream",
          "name": "stdout",
          "text": [
            "\b\b\b\b\b\b\b\b\b\b\b\b\b\b\b\b\b\b\b\b\b\b\b\b\b\b\b\b\b\b\b\b\b\b\b\b\b\b\b\b\b\b\b\b\b\b\b\b\b\b\b\b\b\b\b\b\b\b\b\b\b\b\b\b\b\b\b\b\b\b\b\b\b\b\b\b\b\b\b\b\b\b\b\b\b\b\r4480/4480 [==============================] - 152s 34ms/step - loss: 0.5159 - accuracy: 0.8076 - lr: 0.0010\n",
            "Epoch 3/10\n",
            "4480/4480 [==============================] - ETA: 0s - loss: 0.2759 - accuracy: 0.8984"
          ]
        },
        {
          "output_type": "stream",
          "name": "stderr",
          "text": [
            "WARNING:tensorflow:Learning rate reduction is conditioned on metric `val_acc` which is not available. Available metrics are: loss,accuracy,lr\n"
          ]
        },
        {
          "output_type": "stream",
          "name": "stdout",
          "text": [
            "\b\b\b\b\b\b\b\b\b\b\b\b\b\b\b\b\b\b\b\b\b\b\b\b\b\b\b\b\b\b\b\b\b\b\b\b\b\b\b\b\b\b\b\b\b\b\b\b\b\b\b\b\b\b\b\b\b\b\b\b\b\b\b\b\b\b\b\b\b\b\b\b\b\b\b\b\b\b\b\b\b\b\b\b\b\b\r4480/4480 [==============================] - 153s 34ms/step - loss: 0.2759 - accuracy: 0.8984 - lr: 0.0010\n",
            "Epoch 4/10\n",
            "4480/4480 [==============================] - ETA: 0s - loss: 0.1719 - accuracy: 0.9402"
          ]
        },
        {
          "output_type": "stream",
          "name": "stderr",
          "text": [
            "WARNING:tensorflow:Learning rate reduction is conditioned on metric `val_acc` which is not available. Available metrics are: loss,accuracy,lr\n"
          ]
        },
        {
          "output_type": "stream",
          "name": "stdout",
          "text": [
            "\b\b\b\b\b\b\b\b\b\b\b\b\b\b\b\b\b\b\b\b\b\b\b\b\b\b\b\b\b\b\b\b\b\b\b\b\b\b\b\b\b\b\b\b\b\b\b\b\b\b\b\b\b\b\b\b\b\b\b\b\b\b\b\b\b\b\b\b\b\b\b\b\b\b\b\b\b\b\b\b\b\b\b\b\b\b\r4480/4480 [==============================] - 153s 34ms/step - loss: 0.1719 - accuracy: 0.9402 - lr: 0.0010\n",
            "Epoch 5/10\n",
            "4480/4480 [==============================] - ETA: 0s - loss: 0.1021 - accuracy: 0.9714"
          ]
        },
        {
          "output_type": "stream",
          "name": "stderr",
          "text": [
            "WARNING:tensorflow:Learning rate reduction is conditioned on metric `val_acc` which is not available. Available metrics are: loss,accuracy,lr\n"
          ]
        },
        {
          "output_type": "stream",
          "name": "stdout",
          "text": [
            "\b\b\b\b\b\b\b\b\b\b\b\b\b\b\b\b\b\b\b\b\b\b\b\b\b\b\b\b\b\b\b\b\b\b\b\b\b\b\b\b\b\b\b\b\b\b\b\b\b\b\b\b\b\b\b\b\b\b\b\b\b\b\b\b\b\b\b\b\b\b\b\b\b\b\b\b\b\b\b\b\b\b\b\b\b\b\r4480/4480 [==============================] - 153s 34ms/step - loss: 0.1021 - accuracy: 0.9714 - lr: 0.0010\n",
            "Epoch 6/10\n",
            "4480/4480 [==============================] - ETA: 0s - loss: 0.0785 - accuracy: 0.9737"
          ]
        },
        {
          "output_type": "stream",
          "name": "stderr",
          "text": [
            "WARNING:tensorflow:Learning rate reduction is conditioned on metric `val_acc` which is not available. Available metrics are: loss,accuracy,lr\n"
          ]
        },
        {
          "output_type": "stream",
          "name": "stdout",
          "text": [
            "\b\b\b\b\b\b\b\b\b\b\b\b\b\b\b\b\b\b\b\b\b\b\b\b\b\b\b\b\b\b\b\b\b\b\b\b\b\b\b\b\b\b\b\b\b\b\b\b\b\b\b\b\b\b\b\b\b\b\b\b\b\b\b\b\b\b\b\b\b\b\b\b\b\b\b\b\b\b\b\b\b\b\b\b\b\b\r4480/4480 [==============================] - 151s 34ms/step - loss: 0.0785 - accuracy: 0.9737 - lr: 0.0010\n",
            "Epoch 7/10\n",
            "4480/4480 [==============================] - ETA: 0s - loss: 0.0786 - accuracy: 0.9748"
          ]
        },
        {
          "output_type": "stream",
          "name": "stderr",
          "text": [
            "WARNING:tensorflow:Learning rate reduction is conditioned on metric `val_acc` which is not available. Available metrics are: loss,accuracy,lr\n"
          ]
        },
        {
          "output_type": "stream",
          "name": "stdout",
          "text": [
            "\b\b\b\b\b\b\b\b\b\b\b\b\b\b\b\b\b\b\b\b\b\b\b\b\b\b\b\b\b\b\b\b\b\b\b\b\b\b\b\b\b\b\b\b\b\b\b\b\b\b\b\b\b\b\b\b\b\b\b\b\b\b\b\b\b\b\b\b\b\b\b\b\b\b\b\b\b\b\b\b\b\b\b\b\b\b\r4480/4480 [==============================] - 158s 35ms/step - loss: 0.0786 - accuracy: 0.9748 - lr: 0.0010\n",
            "Epoch 8/10\n",
            "4479/4480 [============================>.] - ETA: 0s - loss: 0.0918 - accuracy: 0.9719"
          ]
        },
        {
          "output_type": "stream",
          "name": "stderr",
          "text": [
            "WARNING:tensorflow:Learning rate reduction is conditioned on metric `val_acc` which is not available. Available metrics are: loss,accuracy,lr\n"
          ]
        },
        {
          "output_type": "stream",
          "name": "stdout",
          "text": [
            "\b\b\b\b\b\b\b\b\b\b\b\b\b\b\b\b\b\b\b\b\b\b\b\b\b\b\b\b\b\b\b\b\b\b\b\b\b\b\b\b\b\b\b\b\b\b\b\b\b\b\b\b\b\b\b\b\b\b\b\b\b\b\b\b\b\b\b\b\b\b\b\b\b\b\b\b\b\b\b\b\b\b\b\b\b\b\r4480/4480 [==============================] - 153s 34ms/step - loss: 0.0918 - accuracy: 0.9719 - lr: 0.0010\n",
            "Epoch 9/10\n",
            "4480/4480 [==============================] - ETA: 0s - loss: 0.0386 - accuracy: 0.9893"
          ]
        },
        {
          "output_type": "stream",
          "name": "stderr",
          "text": [
            "WARNING:tensorflow:Learning rate reduction is conditioned on metric `val_acc` which is not available. Available metrics are: loss,accuracy,lr\n"
          ]
        },
        {
          "output_type": "stream",
          "name": "stdout",
          "text": [
            "\b\b\b\b\b\b\b\b\b\b\b\b\b\b\b\b\b\b\b\b\b\b\b\b\b\b\b\b\b\b\b\b\b\b\b\b\b\b\b\b\b\b\b\b\b\b\b\b\b\b\b\b\b\b\b\b\b\b\b\b\b\b\b\b\b\b\b\b\b\b\b\b\b\b\b\b\b\b\b\b\b\b\b\b\b\b\r4480/4480 [==============================] - 153s 34ms/step - loss: 0.0386 - accuracy: 0.9893 - lr: 0.0010\n",
            "Epoch 10/10\n",
            "4479/4480 [============================>.] - ETA: 0s - loss: 0.0144 - accuracy: 0.9958"
          ]
        },
        {
          "output_type": "stream",
          "name": "stderr",
          "text": [
            "WARNING:tensorflow:Learning rate reduction is conditioned on metric `val_acc` which is not available. Available metrics are: loss,accuracy,lr\n"
          ]
        },
        {
          "output_type": "stream",
          "name": "stdout",
          "text": [
            "\b\b\b\b\b\b\b\b\b\b\b\b\b\b\b\b\b\b\b\b\b\b\b\b\b\b\b\b\b\b\b\b\b\b\b\b\b\b\b\b\b\b\b\b\b\b\b\b\b\b\b\b\b\b\b\b\b\b\b\b\b\b\b\b\b\b\b\b\b\b\b\b\b\b\b\b\b\b\b\b\b\b\b\b\b\b\r4480/4480 [==============================] - 152s 34ms/step - loss: 0.0144 - accuracy: 0.9958 - lr: 0.0010\n"
          ]
        }
      ],
      "source": [
        "mod = model.fit(\n",
        "        # train_generator.flow(x_train, y_train, batch_size= batch_size),\n",
        "        x_train,\n",
        "        y_train,\n",
        "        epochs=epochs,\n",
        "        steps_per_epoch=x_train.shape[0],\n",
        "        validation_data=val_generator.flow(x_val, y_val, batch_size=batch_size),\n",
        "         validation_steps=250,\n",
        "        callbacks=[lrr],\n",
        "        verbose=1,\n",
        "    )"
      ]
    },
    {
      "cell_type": "code",
      "source": [
        "model.save(\"model.h5\")"
      ],
      "metadata": {
        "id": "-MT7lCfYkDFB",
        "colab": {
          "base_uri": "https://localhost:8080/"
        },
        "outputId": "3febadd4-06f1-4218-84eb-11d7a6e469c3"
      },
      "execution_count": 14,
      "outputs": [
        {
          "output_type": "stream",
          "name": "stderr",
          "text": [
            "/usr/local/lib/python3.10/dist-packages/keras/src/engine/training.py:3079: UserWarning: You are saving your model as an HDF5 file via `model.save()`. This file format is considered legacy. We recommend using instead the native Keras format, e.g. `model.save('my_model.keras')`.\n",
            "  saving_api.save_model(\n"
          ]
        }
      ]
    },
    {
      "cell_type": "code",
      "execution_count": 29,
      "metadata": {
        "id": "Su6DI9VKJO1Z",
        "colab": {
          "base_uri": "https://localhost:8080/"
        },
        "outputId": "5f99cf6b-4ed8-4e0b-b410-95ab6bb08d0e"
      },
      "outputs": [
        {
          "output_type": "stream",
          "name": "stdout",
          "text": [
            "Test loss: 2.345\n",
            "Test accuracy: 0.936\n"
          ]
        }
      ],
      "source": [
        "\n",
        "score = model.evaluate(x_test, y_test,verbose = 0)\n",
        "print(\"Test loss:\", round(score[0], 3))\n",
        "print(\"Test accuracy:\", (round(score[1], 3)))"
      ]
    },
    {
      "cell_type": "code",
      "execution_count": 16,
      "metadata": {
        "id": "aIYjZS9N-Hda",
        "colab": {
          "base_uri": "https://localhost:8080/"
        },
        "outputId": "d340b2f7-e31e-45c3-c51b-5d4f0ec27516"
      },
      "outputs": [
        {
          "output_type": "execute_result",
          "data": {
            "text/plain": [
              "dict_keys(['loss', 'accuracy', 'val_loss', 'val_accuracy', 'lr'])"
            ]
          },
          "metadata": {},
          "execution_count": 16
        }
      ],
      "source": [
        "mod = mod.history\n",
        "mod.keys()"
      ]
    },
    {
      "cell_type": "code",
      "execution_count": 17,
      "metadata": {
        "id": "zdgqY7nZMQ-H",
        "colab": {
          "base_uri": "https://localhost:8080/",
          "height": 564
        },
        "outputId": "6de5d37c-ba45-418f-aa2e-c5755735fcc1"
      },
      "outputs": [
        {
          "output_type": "display_data",
          "data": {
            "text/plain": [
              "<Figure size 1200x600 with 1 Axes>"
            ],
            "image/png": "[encoded data removed]"
          },
          "metadata": {}
        }
      ],
      "source": [
        "import matplotlib.pyplot as plt2\n",
        "plt2.figure(figsize=(12, 6))\n",
        "plt2.plot(mod['val_accuracy'])\n",
        "plt2.plot(mod['accuracy'])\n",
        "plt2.title('model accuracy')\n",
        "plt2.ylabel('accuracy')\n",
        "plt2.xlabel('epoch')\n",
        "plt2.legend(['train', 'val'], loc='upper left')\n",
        "plt2.show()"
      ]
    },
    {
      "cell_type": "markdown",
      "source": [
        "# New Section"
      ],
      "metadata": {
        "id": "1f4At71rSqKj"
      }
    },
    {
      "cell_type": "code",
      "execution_count": 18,
      "metadata": {
        "id": "CbXRkoBlMUf5",
        "colab": {
          "base_uri": "https://localhost:8080/",
          "height": 472
        },
        "outputId": "5b2ec437-136a-43df-e1fa-30c055035d30"
      },
      "outputs": [
        {
          "output_type": "display_data",
          "data": {
            "text/plain": [
              "<Figure size 640x480 with 1 Axes>"
            ],
            "image/png": "[encoded data removed]"
          },
          "metadata": {}
        }
      ],
      "source": [
        "plt2.plot(mod['accuracy'])\n",
        "plt2.title('model accuracy')\n",
        "plt2.ylabel('accuracy')\n",
        "plt2.xlabel('epoch')\n",
        "plt2.legend(['train', 'val'], loc='upper left')\n",
        "plt2.show()"
      ]
    }
  ],
  "metadata": {
    "accelerator": "GPU",
    "colab": {
      "provenance": [],
      "gpuType": "T4"
    },
    "kernelspec": {
      "display_name": "Python 3",
      "name": "python3"
    },
    "language_info": {
      "name": "python"
    }
  },
  "nbformat": 4,
  "nbformat_minor": 0
}